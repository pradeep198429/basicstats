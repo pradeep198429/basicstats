{
 "cells": [
  {
   "cell_type": "code",
   "execution_count": 14,
   "metadata": {},
   "outputs": [],
   "source": [
    "import pandas as pd\n",
    "import numpy as np\n",
    "import matplotlib.pyplot as plt"
   ]
  },
  {
   "cell_type": "code",
   "execution_count": 15,
   "metadata": {},
   "outputs": [
    {
     "data": {
      "text/html": [
       "<div>\n",
       "<style scoped>\n",
       "    .dataframe tbody tr th:only-of-type {\n",
       "        vertical-align: middle;\n",
       "    }\n",
       "\n",
       "    .dataframe tbody tr th {\n",
       "        vertical-align: top;\n",
       "    }\n",
       "\n",
       "    .dataframe thead th {\n",
       "        text-align: right;\n",
       "    }\n",
       "</style>\n",
       "<table border=\"1\" class=\"dataframe\">\n",
       "  <thead>\n",
       "    <tr style=\"text-align: right;\">\n",
       "      <th></th>\n",
       "      <th>Name of company</th>\n",
       "      <th>Measure X</th>\n",
       "    </tr>\n",
       "  </thead>\n",
       "  <tbody>\n",
       "    <tr>\n",
       "      <td>0</td>\n",
       "      <td>Allied Signal</td>\n",
       "      <td>24.23%</td>\n",
       "    </tr>\n",
       "    <tr>\n",
       "      <td>1</td>\n",
       "      <td>Bankers Trust</td>\n",
       "      <td>25.53%</td>\n",
       "    </tr>\n",
       "    <tr>\n",
       "      <td>2</td>\n",
       "      <td>General Mills</td>\n",
       "      <td>25.41%</td>\n",
       "    </tr>\n",
       "    <tr>\n",
       "      <td>3</td>\n",
       "      <td>ITT Industries</td>\n",
       "      <td>24.14%</td>\n",
       "    </tr>\n",
       "    <tr>\n",
       "      <td>4</td>\n",
       "      <td>J.P.Morgan &amp; Co.</td>\n",
       "      <td>29.62%</td>\n",
       "    </tr>\n",
       "    <tr>\n",
       "      <td>5</td>\n",
       "      <td>Lehman Brothers</td>\n",
       "      <td>28.25%</td>\n",
       "    </tr>\n",
       "    <tr>\n",
       "      <td>6</td>\n",
       "      <td>Marriott</td>\n",
       "      <td>25.81%</td>\n",
       "    </tr>\n",
       "    <tr>\n",
       "      <td>7</td>\n",
       "      <td>MCI</td>\n",
       "      <td>24.39%</td>\n",
       "    </tr>\n",
       "    <tr>\n",
       "      <td>8</td>\n",
       "      <td>Merrill Lynch</td>\n",
       "      <td>40.26%</td>\n",
       "    </tr>\n",
       "    <tr>\n",
       "      <td>9</td>\n",
       "      <td>Microsoft</td>\n",
       "      <td>32.95%</td>\n",
       "    </tr>\n",
       "    <tr>\n",
       "      <td>10</td>\n",
       "      <td>Morgan Stanley</td>\n",
       "      <td>91.36%</td>\n",
       "    </tr>\n",
       "    <tr>\n",
       "      <td>11</td>\n",
       "      <td>Sun Microsystems</td>\n",
       "      <td>25.99%</td>\n",
       "    </tr>\n",
       "    <tr>\n",
       "      <td>12</td>\n",
       "      <td>Travelers</td>\n",
       "      <td>39.42%</td>\n",
       "    </tr>\n",
       "    <tr>\n",
       "      <td>13</td>\n",
       "      <td>US Airways</td>\n",
       "      <td>26.71%</td>\n",
       "    </tr>\n",
       "    <tr>\n",
       "      <td>14</td>\n",
       "      <td>Warner-Lambert</td>\n",
       "      <td>35.00%</td>\n",
       "    </tr>\n",
       "  </tbody>\n",
       "</table>\n",
       "</div>"
      ],
      "text/plain": [
       "     Name of company Measure X\n",
       "0      Allied Signal    24.23%\n",
       "1      Bankers Trust    25.53%\n",
       "2      General Mills    25.41%\n",
       "3     ITT Industries    24.14%\n",
       "4   J.P.Morgan & Co.    29.62%\n",
       "5    Lehman Brothers    28.25%\n",
       "6           Marriott    25.81%\n",
       "7                MCI    24.39%\n",
       "8      Merrill Lynch    40.26%\n",
       "9          Microsoft    32.95%\n",
       "10    Morgan Stanley    91.36%\n",
       "11  Sun Microsystems    25.99%\n",
       "12         Travelers    39.42%\n",
       "13        US Airways    26.71%\n",
       "14    Warner-Lambert    35.00%"
      ]
     },
     "execution_count": 15,
     "metadata": {},
     "output_type": "execute_result"
    }
   ],
   "source": [
    "df = pd.read_csv(r\"C:\\Users\\oyedeepak\\Downloads\\Assignment\\Basic\\set1.csv\")\n",
    "df.head(15)"
   ]
  },
  {
   "cell_type": "code",
   "execution_count": 16,
   "metadata": {},
   "outputs": [
    {
     "data": {
      "text/plain": [
       "Name of company     object\n",
       "Measure X          float64\n",
       "dtype: object"
      ]
     },
     "execution_count": 16,
     "metadata": {},
     "output_type": "execute_result"
    }
   ],
   "source": [
    "df['Measure X'] = df['Measure X'].str.rstrip('%').astype('float') / 100.0\n",
    "df.dtypes"
   ]
  },
  {
   "cell_type": "code",
   "execution_count": 17,
   "metadata": {},
   "outputs": [
    {
     "data": {
      "text/html": [
       "<div>\n",
       "<style scoped>\n",
       "    .dataframe tbody tr th:only-of-type {\n",
       "        vertical-align: middle;\n",
       "    }\n",
       "\n",
       "    .dataframe tbody tr th {\n",
       "        vertical-align: top;\n",
       "    }\n",
       "\n",
       "    .dataframe thead th {\n",
       "        text-align: right;\n",
       "    }\n",
       "</style>\n",
       "<table border=\"1\" class=\"dataframe\">\n",
       "  <thead>\n",
       "    <tr style=\"text-align: right;\">\n",
       "      <th></th>\n",
       "      <th>Name of company</th>\n",
       "      <th>Measure X</th>\n",
       "    </tr>\n",
       "  </thead>\n",
       "  <tbody>\n",
       "    <tr>\n",
       "      <td>0</td>\n",
       "      <td>Allied Signal</td>\n",
       "      <td>0.2423</td>\n",
       "    </tr>\n",
       "    <tr>\n",
       "      <td>1</td>\n",
       "      <td>Bankers Trust</td>\n",
       "      <td>0.2553</td>\n",
       "    </tr>\n",
       "    <tr>\n",
       "      <td>2</td>\n",
       "      <td>General Mills</td>\n",
       "      <td>0.2541</td>\n",
       "    </tr>\n",
       "    <tr>\n",
       "      <td>3</td>\n",
       "      <td>ITT Industries</td>\n",
       "      <td>0.2414</td>\n",
       "    </tr>\n",
       "    <tr>\n",
       "      <td>4</td>\n",
       "      <td>J.P.Morgan &amp; Co.</td>\n",
       "      <td>0.2962</td>\n",
       "    </tr>\n",
       "    <tr>\n",
       "      <td>5</td>\n",
       "      <td>Lehman Brothers</td>\n",
       "      <td>0.2825</td>\n",
       "    </tr>\n",
       "    <tr>\n",
       "      <td>6</td>\n",
       "      <td>Marriott</td>\n",
       "      <td>0.2581</td>\n",
       "    </tr>\n",
       "    <tr>\n",
       "      <td>7</td>\n",
       "      <td>MCI</td>\n",
       "      <td>0.2439</td>\n",
       "    </tr>\n",
       "    <tr>\n",
       "      <td>8</td>\n",
       "      <td>Merrill Lynch</td>\n",
       "      <td>0.4026</td>\n",
       "    </tr>\n",
       "    <tr>\n",
       "      <td>9</td>\n",
       "      <td>Microsoft</td>\n",
       "      <td>0.3295</td>\n",
       "    </tr>\n",
       "    <tr>\n",
       "      <td>10</td>\n",
       "      <td>Morgan Stanley</td>\n",
       "      <td>0.9136</td>\n",
       "    </tr>\n",
       "    <tr>\n",
       "      <td>11</td>\n",
       "      <td>Sun Microsystems</td>\n",
       "      <td>0.2599</td>\n",
       "    </tr>\n",
       "    <tr>\n",
       "      <td>12</td>\n",
       "      <td>Travelers</td>\n",
       "      <td>0.3942</td>\n",
       "    </tr>\n",
       "    <tr>\n",
       "      <td>13</td>\n",
       "      <td>US Airways</td>\n",
       "      <td>0.2671</td>\n",
       "    </tr>\n",
       "    <tr>\n",
       "      <td>14</td>\n",
       "      <td>Warner-Lambert</td>\n",
       "      <td>0.3500</td>\n",
       "    </tr>\n",
       "  </tbody>\n",
       "</table>\n",
       "</div>"
      ],
      "text/plain": [
       "     Name of company  Measure X\n",
       "0      Allied Signal     0.2423\n",
       "1      Bankers Trust     0.2553\n",
       "2      General Mills     0.2541\n",
       "3     ITT Industries     0.2414\n",
       "4   J.P.Morgan & Co.     0.2962\n",
       "5    Lehman Brothers     0.2825\n",
       "6           Marriott     0.2581\n",
       "7                MCI     0.2439\n",
       "8      Merrill Lynch     0.4026\n",
       "9          Microsoft     0.3295\n",
       "10    Morgan Stanley     0.9136\n",
       "11  Sun Microsystems     0.2599\n",
       "12         Travelers     0.3942\n",
       "13        US Airways     0.2671\n",
       "14    Warner-Lambert     0.3500"
      ]
     },
     "execution_count": 17,
     "metadata": {},
     "output_type": "execute_result"
    }
   ],
   "source": [
    "df.head(15)"
   ]
  },
  {
   "cell_type": "code",
   "execution_count": 18,
   "metadata": {},
   "outputs": [
    {
     "data": {
      "image/png": "[encoded data removed]",
      "text/plain": [
       "<Figure size 432x288 with 1 Axes>"
      ]
     },
     "metadata": {
      "needs_background": "light"
     },
     "output_type": "display_data"
    }
   ],
   "source": [
    "#plotting boxplot\n",
    "plt.boxplot(df['Measure X'], vert= False)\n",
    "plt.show()\n",
    "\n",
    "\n",
    " \n",
    "#Most of the values are between 40 and 24 with Morgan Stanley being the exception(= 91.36%)\n",
    "#Morgan Stanley is the outlier"
   ]
  },
  {
   "cell_type": "code",
   "execution_count": 20,
   "metadata": {},
   "outputs": [
    {
     "data": {
      "text/plain": [
       "array([0.55228372, 0.4728741 , 0.48020422, 0.55778131, 0.22303922,\n",
       "       0.30672475, 0.45577049, 0.54251023, 0.42689797, 0.01962843,\n",
       "       3.54830686, 0.44477532, 0.37558714, 0.4007946 , 0.10559443])"
      ]
     },
     "execution_count": 20,
     "metadata": {},
     "output_type": "execute_result"
    }
   ],
   "source": [
    "#Removing outlier in new dataset\n",
    "from scipy.stats import zscore\n",
    "z_scores =zscore(df['Measure X'])\n",
    "zscoreabs = np.abs(z_scores)\n",
    "zscoreabs"
   ]
  },
  {
   "cell_type": "code",
   "execution_count": 21,
   "metadata": {},
   "outputs": [
    {
     "data": {
      "text/html": [
       "<div>\n",
       "<style scoped>\n",
       "    .dataframe tbody tr th:only-of-type {\n",
       "        vertical-align: middle;\n",
       "    }\n",
       "\n",
       "    .dataframe tbody tr th {\n",
       "        vertical-align: top;\n",
       "    }\n",
       "\n",
       "    .dataframe thead th {\n",
       "        text-align: right;\n",
       "    }\n",
       "</style>\n",
       "<table border=\"1\" class=\"dataframe\">\n",
       "  <thead>\n",
       "    <tr style=\"text-align: right;\">\n",
       "      <th></th>\n",
       "      <th>Name of company</th>\n",
       "      <th>Measure X</th>\n",
       "    </tr>\n",
       "  </thead>\n",
       "  <tbody>\n",
       "    <tr>\n",
       "      <td>0</td>\n",
       "      <td>Allied Signal</td>\n",
       "      <td>0.2423</td>\n",
       "    </tr>\n",
       "    <tr>\n",
       "      <td>1</td>\n",
       "      <td>Bankers Trust</td>\n",
       "      <td>0.2553</td>\n",
       "    </tr>\n",
       "    <tr>\n",
       "      <td>2</td>\n",
       "      <td>General Mills</td>\n",
       "      <td>0.2541</td>\n",
       "    </tr>\n",
       "    <tr>\n",
       "      <td>3</td>\n",
       "      <td>ITT Industries</td>\n",
       "      <td>0.2414</td>\n",
       "    </tr>\n",
       "    <tr>\n",
       "      <td>4</td>\n",
       "      <td>J.P.Morgan &amp; Co.</td>\n",
       "      <td>0.2962</td>\n",
       "    </tr>\n",
       "    <tr>\n",
       "      <td>5</td>\n",
       "      <td>Lehman Brothers</td>\n",
       "      <td>0.2825</td>\n",
       "    </tr>\n",
       "    <tr>\n",
       "      <td>6</td>\n",
       "      <td>Marriott</td>\n",
       "      <td>0.2581</td>\n",
       "    </tr>\n",
       "    <tr>\n",
       "      <td>7</td>\n",
       "      <td>MCI</td>\n",
       "      <td>0.2439</td>\n",
       "    </tr>\n",
       "    <tr>\n",
       "      <td>8</td>\n",
       "      <td>Merrill Lynch</td>\n",
       "      <td>0.4026</td>\n",
       "    </tr>\n",
       "    <tr>\n",
       "      <td>9</td>\n",
       "      <td>Microsoft</td>\n",
       "      <td>0.3295</td>\n",
       "    </tr>\n",
       "    <tr>\n",
       "      <td>11</td>\n",
       "      <td>Sun Microsystems</td>\n",
       "      <td>0.2599</td>\n",
       "    </tr>\n",
       "    <tr>\n",
       "      <td>12</td>\n",
       "      <td>Travelers</td>\n",
       "      <td>0.3942</td>\n",
       "    </tr>\n",
       "    <tr>\n",
       "      <td>13</td>\n",
       "      <td>US Airways</td>\n",
       "      <td>0.2671</td>\n",
       "    </tr>\n",
       "    <tr>\n",
       "      <td>14</td>\n",
       "      <td>Warner-Lambert</td>\n",
       "      <td>0.3500</td>\n",
       "    </tr>\n",
       "  </tbody>\n",
       "</table>\n",
       "</div>"
      ],
      "text/plain": [
       "     Name of company  Measure X\n",
       "0      Allied Signal     0.2423\n",
       "1      Bankers Trust     0.2553\n",
       "2      General Mills     0.2541\n",
       "3     ITT Industries     0.2414\n",
       "4   J.P.Morgan & Co.     0.2962\n",
       "5    Lehman Brothers     0.2825\n",
       "6           Marriott     0.2581\n",
       "7                MCI     0.2439\n",
       "8      Merrill Lynch     0.4026\n",
       "9          Microsoft     0.3295\n",
       "11  Sun Microsystems     0.2599\n",
       "12         Travelers     0.3942\n",
       "13        US Airways     0.2671\n",
       "14    Warner-Lambert     0.3500"
      ]
     },
     "execution_count": 21,
     "metadata": {},
     "output_type": "execute_result"
    }
   ],
   "source": [
    "filtered = (zscoreabs < 3)\n",
    "dfn = df[filtered]\n",
    "dfn"
   ]
  },
  {
   "cell_type": "code",
   "execution_count": 22,
   "metadata": {},
   "outputs": [
    {
     "data": {
      "image/png": "[encoded data removed]",
      "text/plain": [
       "<Figure size 432x288 with 1 Axes>"
      ]
     },
     "metadata": {
      "needs_background": "light"
     },
     "output_type": "display_data"
    }
   ],
   "source": [
    "#plotting boxplot without outlier\n",
    "plt.boxplot(dfn['Measure X'], vert= False)\n",
    "plt.show()"
   ]
  },
  {
   "cell_type": "code",
   "execution_count": 23,
   "metadata": {},
   "outputs": [
    {
     "name": "stdout",
     "output_type": "stream",
     "text": [
      "Mean with outlier: 0.3327133333333333\n",
      "Mean without outlier: 0.29122142857142863\n"
     ]
    }
   ],
   "source": [
    "m1 = df['Measure X'].mean()\n",
    "m2 = dfn['Measure X'].mean()\n",
    "print('Mean with outlier:', m1)\n",
    "print('Mean without outlier:', m2)"
   ]
  },
  {
   "cell_type": "code",
   "execution_count": 24,
   "metadata": {},
   "outputs": [
    {
     "name": "stdout",
     "output_type": "stream",
     "text": [
      "Standard deviation with outlier: 0.16945400921222029\n",
      "Standard deviation without outlier: 0.055797603733651335\n"
     ]
    }
   ],
   "source": [
    "sd1 = df['Measure X'].std()\n",
    "sd2 = dfn['Measure X'].std()\n",
    "print('Standard deviation with outlier:', sd1)\n",
    "print('Standard deviation without outlier:', sd2)"
   ]
  },
  {
   "cell_type": "code",
   "execution_count": 25,
   "metadata": {},
   "outputs": [
    {
     "name": "stdout",
     "output_type": "stream",
     "text": [
      "Variation with outlier: 0.028714661238095233\n",
      "Variation without outlier: 0.0031133725824175817\n"
     ]
    }
   ],
   "source": [
    "v1 = df['Measure X'].var()\n",
    "v2 = dfn['Measure X'].var()\n",
    "print('Variation with outlier:', v1)\n",
    "print('Variation without outlier:', v2)"
   ]
  },
  {
   "cell_type": "code",
   "execution_count": 26,
   "metadata": {},
   "outputs": [],
   "source": [
    "#Q2\n",
    "#i) Range of IQR = (5, 12.5). It says that 50% of values lie in the range.\n",
    "#ii) It slightly positive skewed.\n",
    "#iii) It will show a boxplot without outlier, and will be more explainable."
   ]
  },
  {
   "cell_type": "code",
   "execution_count": 27,
   "metadata": {},
   "outputs": [],
   "source": [
    "#Q3\n",
    "#i) The highest peak of the histogram represents the location of the mode. It is between 4 and 8.\n",
    "#ii) It is right skewed histogram with a outlier.\n",
    "#iii) Box plot provide more of a summary of a distribution.  it typically provides the median, 25th and 75th percentile, min/max \n",
    "#that is not an outlier and explicitly separates the points that are considered outliers. \n",
    "#Histogram allows to visually and quickly assess the shape of the distribution, the central tendency,\n",
    "#the amount of variation in the data, and the presence of gaps, outliers or unusual data points."
   ]
  },
  {
   "cell_type": "code",
   "execution_count": 28,
   "metadata": {},
   "outputs": [],
   "source": [
    "#Q4\n",
    "#Ans) Probability of atleast one call reaching the wrong number is 0.025\n",
    "\n",
    "#P(E) =  Probabilty of call being misdirected\n",
    "#P(Ebar) =  Probabilty of call not being misdirected\n",
    "\n",
    "#P(Ebar) (1-P(E)) =  (1-(1/200)) = (199/200)\n",
    "\n",
    "# Probability that at least one in 5 attempted call reaches the wrong number\n",
    "# = 1 - Probability that no attempted call reaches the wrong number\n",
    "\n",
    "#  = 1-((199/200)^5)\n",
    "# = 0.025"
   ]
  },
  {
   "cell_type": "code",
   "execution_count": 34,
   "metadata": {},
   "outputs": [],
   "source": [
    "#Q5\n",
    "#i) most likely monetary outcome of the business venture: $2000, with the probability of 0.3\n",
    "\n",
    "#ii) Yes, because while the business is having a loss of $300, it is having a profit of $1100.\n",
    "#So, the overall profit is of $800. So, the venture will be successful in the long term \n",
    "#since the probability of non-negative return is higher than 0.50.\n",
    "\n",
    "#iii)The long-term average earning of business venture of this kind:\n",
    "#-2000*0.1-1000*0.1+0*0.2+1000*0.2+2000*0.3+3000*0.1 = $800\n",
    "\n",
    "#iv) good measure of the risk involved in a venture of this kind is standard deviation.\n",
    "# Mean = 500\n",
    "#Std Deviation = sqrt((1/N)*(0.1*(-2000-500)^2)+ 0.1*(-1000-500)^2) + 0.2*(0-500)^2) + 0.2*(1000-500)^2) + 0.3*(2000-500)^2) + 0.1*(3000-500)^2))\n",
    "# Std Deviation = 612"
   ]
  },
  {
   "cell_type": "code",
   "execution_count": null,
   "metadata": {},
   "outputs": [],
   "source": []
  }
 ],
 "metadata": {
  "kernelspec": {
   "display_name": "Python 3",
   "language": "python",
   "name": "python3"
  },
  "language_info": {
   "codemirror_mode": {
    "name": "ipython",
    "version": 3
   },
   "file_extension": ".py",
   "mimetype": "text/x-python",
   "name": "python",
   "nbconvert_exporter": "python",
   "pygments_lexer": "ipython3",
   "version": "3.7.4"
  }
 },
 "nbformat": 4,
 "nbformat_minor": 2
}
